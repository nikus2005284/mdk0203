{
 "cells": [
  {
   "cell_type": "markdown",
   "id": "f259a40a",
   "metadata": {},
   "source": [
    "\n",
    "# Упражнение: Производные и графики\n",
    "\n",
    "В этом упражнении необходимо найти первую и вторую производные, а также построить графики функции, её первой и второй производных для следующих функций:\n",
    "\n",
    "- \\( \\cos(x) \\)\n",
    "- \\( \\sin(x) \\)\n",
    "- \\( \tan(x) \\)\n",
    "- \\( \\cot(x) \\)\n"
   ]
  },
  {
   "cell_type": "code",
   "execution_count": null,
   "id": "81bf0f4b",
   "metadata": {},
   "outputs": [],
   "source": [
    "\n",
    "import numpy as np\n",
    "import matplotlib.pyplot as plt\n",
    "\n",
    "# Define functions and their derivatives\n",
    "functions = {\n",
    "    \"cos(x)\": (np.cos, lambda x: -np.sin(x), lambda x: -np.cos(x)),\n",
    "    \"sin(x)\": (np.sin, np.cos, lambda x: -np.sin(x)),\n",
    "    \"tan(x)\": (np.tan, lambda x: 1 / np.cos(x) ** 2, lambda x: 2 * np.sin(x) / np.cos(x) ** 3),\n",
    "    \"cot(x)\": (lambda x: 1 / np.tan(x), lambda x: -1 / np.sin(x) ** 2, lambda x: 2 * np.cos(x) / np.sin(x) ** 3)\n",
    "}\n",
    "\n",
    "# Define x range\n",
    "x = np.linspace(-2 * np.pi, 2 * np.pi, 500)\n",
    "x_tan_cot = x[np.abs(x) % np.pi > 0.01]  # Exclude undefined points for tan(x) and cot(x)\n",
    "\n",
    "# Create plots\n",
    "fig, axes = plt.subplots(len(functions), 1, figsize=(8, 16))\n",
    "fig.tight_layout(pad=5.0)\n",
    "\n",
    "for i, (name, (func, first_derivative, second_derivative)) in enumerate(functions.items()):\n",
    "    ax = axes[i]\n",
    "    x_vals = x if \"tan\" not in name and \"cot\" not in name else x_tan_cot\n",
    "    ax.plot(x_vals, func(x_vals), label=f\"{name}\", color=\"blue\")\n",
    "    ax.plot(x_vals, first_derivative(x_vals), label=f\"{name}'\", color=\"red\")\n",
    "    ax.plot(x_vals, second_derivative(x_vals), label=f\"{name}''\", color=\"green\")\n",
    "    ax.axhline(0, color='black', linewidth=0.5, linestyle=\"--\")\n",
    "    ax.axvline(0, color='black', linewidth=0.5, linestyle=\"--\")\n",
    "    ax.set_title(f\"Function: {name} and its Derivatives\")\n",
    "    ax.legend()\n",
    "    ax.grid(True)\n",
    "\n",
    "plt.show()\n"
   ]
  }
 ],
 "metadata": {},
 "nbformat": 4,
 "nbformat_minor": 5
}
