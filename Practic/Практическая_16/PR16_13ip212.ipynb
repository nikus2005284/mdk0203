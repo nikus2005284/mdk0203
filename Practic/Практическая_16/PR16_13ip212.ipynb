{
 "cells": [
  {
   "cell_type": "markdown",
   "metadata": {},
   "source": [
    "Необходимые библиотеки"
   ]
  },
  {
   "cell_type": "code",
   "execution_count": 1,
   "metadata": {},
   "outputs": [],
   "source": [
    "import pandas as pd\n",
    "import numpy as np\n",
    "import matplotlib.pyplot as plt"
   ]
  },
  {
   "cell_type": "markdown",
   "metadata": {},
   "source": [
    "# Задание 1"
   ]
  },
  {
   "cell_type": "code",
   "execution_count": 5,
   "metadata": {},
   "outputs": [
    {
     "name": "stdout",
     "output_type": "stream",
     "text": [
      "Gold investment: USD 17,433.58\n",
      "S&P investment: USD 21,739.46\n",
      "BTC investment: USD 529,701,861.66\n"
     ]
    }
   ],
   "source": [
    "gold = pd.read_csv('gold.txt', sep='\\\\s+', index_col=0,\n",
    "                   usecols=[0, 1], parse_dates=True)\n",
    "snp = pd.read_csv('SNP.csv', parse_dates=True, index_col=0)\n",
    "btc = pd.read_csv('BTC.csv', parse_dates=True, index_col=0)\n",
    "\n",
    "gold['holding'] = 100 / gold['Price']\n",
    "snp['holding'] = 100 / snp['Open']\n",
    "btc['holding'] = 100 / btc['BTC-USD']\n",
    "\n",
    "final_date = '2020-07-01'\n",
    "total_btc = btc['holding'][:final_date].sum()\n",
    "total_gold = gold['holding'][:final_date].sum()\n",
    "total_snp = snp['holding'][:final_date].sum()\n",
    "\n",
    "print('Gold investment: USD {:,.2f}'\n",
    "                .format(total_gold * gold.loc[final_date]['Price']))\n",
    "print('S&P investment: USD {:,.2f}'\n",
    "                .format(total_snp * snp.loc[final_date]['Open']))\n",
    "print('BTC investment: USD {:,.2f}'\n",
    "                .format(total_btc * btc.loc[final_date]['BTC-USD']))"
   ]
  },
  {
   "cell_type": "markdown",
   "metadata": {},
   "source": [
    "# Задание 2"
   ]
  },
  {
   "cell_type": "code",
   "execution_count": 7,
   "metadata": {},
   "outputs": [
    {
     "name": "stdout",
     "output_type": "stream",
     "text": [
      "Most common wind bearing: 180.0 deg\n",
      "Max wind speed: 96.0 knots at 2016-01-08 16:00:00\n",
      "Greatest number of sunshine hours in a June: 258.6 in 2022\n",
      "Highest rainfall: 333.31 mm on 2021-08-08 00:00:00\n",
      "Lowest temperature (method 1): -8.8 deg C at 2010-12-20 01:00:00\n",
      "Lowest temperature (method 2): -13.8 deg C at 2012-02-11 07:00:00\n"
     ]
    }
   ],
   "source": [
    "# Read in the data and assign column names.\n",
    "df = pd.read_csv('weather-raw.csv', header=None, names=['Timestamp',\n",
    "    'Temperature', 'Humidity', 'Dew Point', 'Pressure', 'Wind Speed',\n",
    "    'Wind Bearing', 'Sunshine', 'Rainfall', 'Max Wind Speed']\n",
    "                )\n",
    "# Rescale the values according to the documentation.\n",
    "# Temperature -> deg C, Dew Point -> deg C, Wind Speed -> knots,\n",
    "# Sunshine -> hours, Rainfall -> mm\n",
    "scalings = {10: ['Temperature', 'Dew Point', 'Wind Speed', 'Max Wind Speed'],\n",
    "            100: 'Sunshine',\n",
    "            1000: 'Rainfall'\n",
    "           }\n",
    "for fac, cols in scalings.items():\n",
    "    df[cols] = df.loc(axis=1)[cols] / fac\n",
    "\n",
    "# Turn the index into a DateTimeIndex\n",
    "df.index = pd.to_datetime(df['Timestamp'])\n",
    "\n",
    "# -- (a) --\n",
    "# Wind bearing is the cardinal direction the wind is blowing *to*.\n",
    "modal_wind_bearing = df['Wind Bearing'].mode().values[0]\n",
    "print('Most common wind bearing: {} deg'.format(modal_wind_bearing))\n",
    "# Most common wind bearing: 180.0 deg\n",
    "# (ie from the north).\n",
    "\n",
    "\n",
    "# -- (b) --\n",
    "# There is some obviously bad data indicating implausibly high wind speeds\n",
    "# over a cluster of times in 2015: filter ths out.\n",
    "df.loc[df['Max Wind Speed'] > 100, 'Max Wind Speed'] = np.nan\n",
    "idx = df['Max Wind Speed'].idxmax()\n",
    "wind_max = df.loc[idx]['Max Wind Speed']\n",
    "print('Max wind speed: {} knots at {}'.format(wind_max, idx))\n",
    "# Max wind speed: 96.0 knots at 2016-01-08 16:00:00\n",
    "# (well, maybe).\n",
    "\n",
    "# -- (c) --\n",
    "sunshine_monthly = df['Sunshine'].resample('ME').sum()\n",
    "idx = sunshine_monthly[sunshine_monthly.index.month == 6].idxmax()\n",
    "print('Greatest number of sunshine hours in a June: {:.1f} in {}'\n",
    "                .format(sunshine_monthly[idx], idx.year))\n",
    "# Greatest number of sunshine hours in a June: 236.8 in 2006\n",
    "\n",
    "# -- (d) --\n",
    "rain_daily = df['Rainfall'].resample('D').sum()\n",
    "idx = rain_daily.idxmax()\n",
    "print('Highest rainfall: {:.2f} mm on {}'.format(rain_daily[idx], idx))\n",
    "# Highest rainfall: 171.23000000000005 mm on 2011-02-26 00:00:00\n",
    "# (Not likely): TODO – cross-reference rainfall data with Met Office\n",
    "# recordings at:\n",
    "#https://www.metoffice.gov.uk/pub/data/weather/uk/climate/stationdata/cambridgedata.txt\n",
    "\n",
    "# -- (e) --\n",
    "# There are different ways we could filter out the bad temperature data.\n",
    "# Method 1: exclude data points nstd standard deviations away from the mean.\n",
    "nstd = 3\n",
    "tser = df['Temperature'].copy()\n",
    "thresh = tser.mean() -  nstd * tser.std()\n",
    "tser[tser < thresh] = np.nan\n",
    "idx = tser.idxmin()\n",
    "print('Lowest temperature (method 1): {} deg C at {}'.format(tser[idx], idx))\n",
    "# Lowest temperature (method 1): -8.8 deg C at 2010-12-20 01:00:00\n",
    "\n",
    "# Method 2: exclude data points from an identified date range.\n",
    "df.loc['2015-10-15':'2016-01-15','Temperature'] = np.nan\n",
    "idx = df['Temperature'].idxmin()\n",
    "print('Lowest temperature (method 2): {} deg C at {}'\n",
    "                            .format(df.loc[idx, 'Temperature'], idx))\n",
    "# Lowest temperature (method 1): -13.8 deg C at 2012-02-11 07:00:00"
   ]
  }
 ],
 "metadata": {
  "kernelspec": {
   "display_name": "Python 3",
   "language": "python",
   "name": "python3"
  },
  "language_info": {
   "codemirror_mode": {
    "name": "ipython",
    "version": 3
   },
   "file_extension": ".py",
   "mimetype": "text/x-python",
   "name": "python",
   "nbconvert_exporter": "python",
   "pygments_lexer": "ipython3",
   "version": "3.10.0"
  }
 },
 "nbformat": 4,
 "nbformat_minor": 2
}
