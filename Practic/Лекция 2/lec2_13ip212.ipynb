{
 "cells": [
  {
   "cell_type": "markdown",
   "id": "c324bbd3",
   "metadata": {},
   "source": [
    "# Решения задач по Python"
   ]
  },
  {
   "cell_type": "code",
   "execution_count": 1,
   "id": "04b82e13",
   "metadata": {},
   "outputs": [
    {
     "name": "stdout",
     "output_type": "stream",
     "text": [
      "Некорректная строка пропущена: # swallow-speeds.txt\n",
      "Некорректная строка пропущена: # Airspeed velocities of unladen African swallow (m.s-1)\n",
      "Некорректная строка пропущена: # Invalid data is indicated by #\n",
      "Некорректная строка пропущена: \n",
      "Некорректная строка пропущена: 99.9 #\n",
      "Некорректная строка пропущена: 0.0 #\n",
      "Средняя скорость: 10.31 м/с\n"
     ]
    }
   ],
   "source": [
    "\n",
    "# Задача 1: Средняя скорость африканской ласточки с обработкой исключений\n",
    "\n",
    "def calculate_average_speed(filename):\n",
    "    try:\n",
    "        with open(filename, 'r') as file:\n",
    "            speeds = []\n",
    "            for line in file:\n",
    "                try:\n",
    "                    speed = float(line.strip())\n",
    "                    speeds.append(speed)\n",
    "                except ValueError:\n",
    "                    print(f\"Некорректная строка пропущена: {line.strip()}\")\n",
    "            if speeds:\n",
    "                return sum(speeds) / len(speeds)\n",
    "            else:\n",
    "                raise ValueError(\"Файл не содержит корректных данных.\")\n",
    "    except FileNotFoundError:\n",
    "        print(f\"Файл {filename} не найден.\")\n",
    "    except Exception as e:\n",
    "        print(f\"Произошла ошибка: {e}\")\n",
    "\n",
    "# Пример вызова функции\n",
    "filename = 'swallow-speeds.txt'  # Убедитесь, что файл находится в текущей директории\n",
    "average_speed = calculate_average_speed(filename)\n",
    "if average_speed is not None:\n",
    "    print(f\"Средняя скорость: {average_speed:.2f} м/с\")\n"
   ]
  },
  {
   "cell_type": "code",
   "execution_count": 2,
   "id": "a6b52039",
   "metadata": {},
   "outputs": [
    {
     "name": "stdout",
     "output_type": "stream",
     "text": [
      "(-2 3.5)\n",
      "(4 0.5 -2)\n",
      "Ошибка: Вектор содержит недопустимые элементы.\n",
      "None\n"
     ]
    }
   ],
   "source": [
    "\n",
    "# Задача 2: Проверка на действительные числа в векторе\n",
    "\n",
    "def str_vector(vector):\n",
    "    try:\n",
    "        if not all(isinstance(x, (int, float)) for x in vector):\n",
    "            raise TypeError(\"Вектор содержит недопустимые элементы.\")\n",
    "        return f\"({' '.join(map(str, vector))})\"\n",
    "    except TypeError as e:\n",
    "        print(f\"Ошибка: {e}\")\n",
    "\n",
    "# Пример вызова функции\n",
    "print(str_vector([-2, 3.5]))  # Допустимый вектор\n",
    "print(str_vector((4, 0.5, -2)))  # Допустимый вектор\n",
    "print(str_vector([1, 'a', 3]))  # Недопустимый вектор\n"
   ]
  },
  {
   "cell_type": "code",
   "execution_count": 3,
   "id": "9fed66f2",
   "metadata": {},
   "outputs": [
    {
     "name": "stdout",
     "output_type": "stream",
     "text": [
      "8\n",
      "Ошибка: Определение 0^0 не существует.\n"
     ]
    }
   ],
   "source": [
    "\n",
    "# Задача 3: Поведение 0^0 с генерацией исключения\n",
    "\n",
    "def powr(a, b):\n",
    "    if a == 0 and b == 0:\n",
    "        raise ValueError(\"Определение 0^0 не существует.\")\n",
    "    return a ** b\n",
    "\n",
    "# Пример вызова функции\n",
    "try:\n",
    "    print(powr(2, 3))  # 8\n",
    "    print(powr(0, 0))  # Должно вызвать исключение\n",
    "except ValueError as e:\n",
    "    print(f\"Ошибка: {e}\")\n"
   ]
  }
 ],
 "metadata": {
  "kernelspec": {
   "display_name": "Python 3",
   "language": "python",
   "name": "python3"
  },
  "language_info": {
   "codemirror_mode": {
    "name": "ipython",
    "version": 3
   },
   "file_extension": ".py",
   "mimetype": "text/x-python",
   "name": "python",
   "nbconvert_exporter": "python",
   "pygments_lexer": "ipython3",
   "version": "3.10.0"
  }
 },
 "nbformat": 4,
 "nbformat_minor": 5
}
