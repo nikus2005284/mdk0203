{
 "cells": [
  {
   "cell_type": "markdown",
   "id": "438b5252",
   "metadata": {},
   "source": [
    "\n",
    "# Решение задач\n",
    "\n",
    "## Задание 1\n",
    "\n",
    "1. Изменить базовый класс `BankAccount` для проверки номера счета на соответствие алгоритму Луна.\n",
    "2. Изменить класс `CurrentAccount` для реализации свободного овердрафта с установкой лимита.\n"
   ]
  },
  {
   "cell_type": "code",
   "execution_count": null,
   "id": "01b1e16d",
   "metadata": {},
   "outputs": [],
   "source": [
    "\n",
    "def luhn_check(account_number):\n",
    "    \"\"\"Проверка номера счета по алгоритму Луна.\"\"\"\n",
    "    digits = [int(d) for d in str(account_number)][::-1]\n",
    "    for i in range(len(digits)):\n",
    "        if i % 2 == 1:\n",
    "            digits[i] *= 2\n",
    "            if digits[i] > 9:\n",
    "                digits[i] -= 9\n",
    "    return sum(digits) % 10 == 0\n"
   ]
  },
  {
   "cell_type": "code",
   "execution_count": null,
   "id": "f0056c4e",
   "metadata": {},
   "outputs": [],
   "source": [
    "\n",
    "class BankAccount:\n",
    "    def __init__(self, account_number, balance=0):\n",
    "        if not luhn_check(account_number):\n",
    "            raise ValueError(\"Некорректный номер счета!\")\n",
    "        self.account_number = account_number\n",
    "        self.balance = balance\n",
    "\n",
    "    def deposit(self, amount):\n",
    "        if amount <= 0:\n",
    "            raise ValueError(\"Сумма депозита должна быть положительной.\")\n",
    "        self.balance += amount\n",
    "\n",
    "    def withdraw(self, amount):\n",
    "        if amount > self.balance:\n",
    "            raise ValueError(\"Недостаточно средств на счете.\")\n",
    "        self.balance -= amount\n",
    "\n",
    "    def __str__(self):\n",
    "        return f\"Счет №{self.account_number}, Баланс: {self.balance}\"\n"
   ]
  },
  {
   "cell_type": "code",
   "execution_count": null,
   "id": "c304b632",
   "metadata": {},
   "outputs": [],
   "source": [
    "\n",
    "class CurrentAccount(BankAccount):\n",
    "    def __init__(self, account_number, balance=0, overdraft_limit=0):\n",
    "        super().__init__(account_number, balance)\n",
    "        self.overdraft_limit = overdraft_limit\n",
    "\n",
    "    def withdraw(self, amount):\n",
    "        if amount > self.balance + self.overdraft_limit:\n",
    "            raise ValueError(\"Превышен лимит овердрафта.\")\n",
    "        self.balance -= amount\n",
    "\n",
    "    def __str__(self):\n",
    "        return f\"Счет №{self.account_number}, Баланс: {self.balance}, Лимит овердрафта: {self.overdraft_limit}\"\n"
   ]
  },
  {
   "cell_type": "code",
   "execution_count": null,
   "id": "ba1e59dc",
   "metadata": {},
   "outputs": [],
   "source": [
    "\n",
    "# Пример использования\n",
    "\n",
    "try:\n",
    "    acc = BankAccount(\"79927398713\", 1000)  # Корректный номер счета\n",
    "    print(acc)\n",
    "    acc.deposit(500)\n",
    "    print(acc)\n",
    "    acc.withdraw(200)\n",
    "    print(acc)\n",
    "except ValueError as e:\n",
    "    print(e)\n",
    "\n",
    "try:\n",
    "    current_acc = CurrentAccount(\"79927398713\", 500, 300)  # Корректный номер счета\n",
    "    print(current_acc)\n",
    "    current_acc.withdraw(700)  # В пределах лимита\n",
    "    print(current_acc)\n",
    "    current_acc.withdraw(200)  # Превышение лимита\n",
    "except ValueError as e:\n",
    "    print(e)\n"
   ]
  }
 ],
 "metadata": {},
 "nbformat": 4,
 "nbformat_minor": 5
}
