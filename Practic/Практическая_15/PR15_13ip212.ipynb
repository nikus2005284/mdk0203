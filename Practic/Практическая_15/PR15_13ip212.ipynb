{
 "cells": [
  {
   "cell_type": "markdown",
   "id": "6adeab93",
   "metadata": {},
   "source": [
    "\n",
    "# Задания\n",
    "\n",
    "В этом Jupyter Notebook реализованы следующие задачи:\n",
    "\n",
    "1. **Диаграмма Герцшпрунга–Рассела**: Построение диаграммы на основе данных HYG-database127.\n",
    "2. **Анализ данных HITRAN**: Построение графика зависимости интенсивности молекулярных линий от длины волны.\n"
   ]
  },
  {
   "cell_type": "markdown",
   "id": "2bed16da",
   "metadata": {},
   "source": [
    "\n",
    "## Задача 1: Диаграмма Герцшпрунга–Рассела\n",
    "\n",
    "Используются данные из базы HYG-database127. Температура звезды вычисляется по её показателю цвета с использованием формулы Баллестероса:\n",
    "\n",
    "\\[ T = 4600 \\times \\left( \\frac{1}{0.92 \\times (B-V) + 1.7} + \\frac{1}{0.92 \\times (B-V) + 0.62} \\right) \\]\n",
    "\n",
    "Светимость отображается на логарифмической шкале, а ось температуры — в обратном направлении.\n"
   ]
  },
  {
   "cell_type": "code",
   "execution_count": null,
   "id": "56cdac0c",
   "metadata": {},
   "outputs": [],
   "source": [
    "\n",
    "import pandas as pd\n",
    "import matplotlib.pyplot as plt\n",
    "import numpy as np\n",
    "\n",
    "# Load HYG-database127 from local file\n",
    "file_hyg = \"HYG-database-127.csv\"  # Укажите путь к файлу\n",
    "hyg_data = pd.read_csv(file_hyg)\n",
    "\n",
    "# Filter stars with valid color index (ci) and luminosity (lum)\n",
    "hyg_data = hyg_data.dropna(subset=['ci', 'lum'])\n",
    "\n",
    "# Calculate temperature using Ballesteros formula\n",
    "hyg_data['temperature'] = 4600 * (1 / (0.92 * hyg_data['ci'] + 1.7) + 1 / (0.92 * hyg_data['ci'] + 0.62))\n",
    "\n",
    "# Plot the Hertzsprung–Russell diagram\n",
    "plt.figure(figsize=(10, 6))\n",
    "plt.scatter(hyg_data['temperature'], hyg_data['lum'], c=hyg_data['temperature'], cmap='plasma', s=1, alpha=0.7)\n",
    "plt.yscale('log')\n",
    "plt.gca().invert_xaxis()\n",
    "plt.colorbar(label='Temperature (K)')\n",
    "plt.title('Hertzsprung–Russell Diagram')\n",
    "plt.xlabel('Temperature (K)')\n",
    "plt.ylabel('Luminosity')\n",
    "plt.grid(True)\n",
    "plt.show()\n"
   ]
  },
  {
   "cell_type": "markdown",
   "id": "731d1527",
   "metadata": {},
   "source": [
    "\n",
    "## Задача 2: Анализ данных HITRAN\n",
    "\n",
    "Используются данные из файла `CO2-transitions.par`. График строится для зависимости интенсивности молекулярных линий от длины волны.\n"
   ]
  },
  {
   "cell_type": "code",
   "execution_count": null,
   "id": "7178cec6",
   "metadata": {},
   "outputs": [],
   "source": [
    "\n",
    "# Load CO2-transitions.par from local file\n",
    "file_hitran = \"CO2-transitions.par\"  # Укажите путь к файлу\n",
    "\n",
    "# Define column widths and names for HITRAN data\n",
    "column_widths = [2, 1, 12, 10, 10, 5, 15, 15, 10, 8, 15, 15, 15, 15, 15, 15, 6, 12, 12, 15]\n",
    "column_names = [\n",
    "    \"M\", \"I\", \"nu\", \"S\", \"A\", \"gamma_air\", \"gamma_self\", \"E\", \"n_air\",\n",
    "    \"delta_air\", \"Vp\", \"Vs\", \"W\", \"X\", \"Y\", \"Z\", \"AA\", \"BB\", \"CC\", \"DD\"\n",
    "]\n",
    "\n",
    "# Load data\n",
    "hitran_data = pd.read_fwf(file_hitran, widths=column_widths, names=column_names)\n",
    "\n",
    "# Filter data for the relevant wavelength range (10 mm to 700 nm)\n",
    "hitran_data['wavelength'] = 1e7 / hitran_data['nu']  # Convert wavenumber to wavelength in nm\n",
    "filtered_data = hitran_data[(hitran_data['wavelength'] >= 700) & (hitran_data['wavelength'] <= 1e7)]\n",
    "\n",
    "# Plot intensity vs wavelength\n",
    "plt.figure(figsize=(10, 6))\n",
    "plt.plot(filtered_data['wavelength'], filtered_data['S'], 'o', markersize=1, alpha=0.5)\n",
    "plt.title('Molecular Line Intensity vs Wavelength (HITRAN)')\n",
    "plt.xlabel('Wavelength (nm)')\n",
    "plt.ylabel('Intensity')\n",
    "plt.grid(True)\n",
    "plt.show()\n"
   ]
  }
 ],
 "metadata": {},
 "nbformat": 4,
 "nbformat_minor": 5
}
