{
 "cells": [
  {
   "cell_type": "markdown",
   "id": "9d9856f9",
   "metadata": {},
   "source": [
    "\n",
    "# Практическая работа: Дискретные преобразования Фурье\n",
    "\n",
    "## Задание\n",
    "Сравнить скорость выполнения алгоритма `np.fft.fft` из библиотеки NumPy и непосредственной (собственной) реализации формулы.\n",
    "\n"
   ]
  },
  {
   "cell_type": "code",
   "execution_count": null,
   "id": "4c4f797c",
   "metadata": {},
   "outputs": [
    {
     "name": "stdout",
     "output_type": "stream",
     "text": [
      "Сравнение скорости выполнения:\n"
     ]
    }
   ],
   "source": [
    "\n",
    "import numpy as np\n",
    "\n",
    "# Размер данных\n",
    "n = 1024\n",
    "\n",
    "# Случайные значения функции\n",
    "data = np.random.random(n)\n",
    "\n",
    "# Собственная реализация дискретного преобразования Фурье\n",
    "def dft_manual(x):\n",
    "    n = len(x)\n",
    "    m = np.arange(n)\n",
    "    k = m.reshape((n, 1))\n",
    "    w = np.exp(-2j * np.pi * k * m / n)\n",
    "    return np.dot(w, x)\n",
    "\n",
    "# Сравнение скорости выполнения\n",
    "print(\"Сравнение скорости выполнения:\")\n",
    "\n",
    "# Собственная реализация\n",
    "%timeit dft_manual(data)\n",
    "\n",
    "# NumPy FFT\n",
    "%timeit np.fft.fft(data)\n"
   ]
  }
 ],
 "metadata": {
  "kernelspec": {
   "display_name": "Python 3",
   "language": "python",
   "name": "python3"
  },
  "language_info": {
   "codemirror_mode": {
    "name": "ipython",
    "version": 3
   },
   "file_extension": ".py",
   "mimetype": "text/x-python",
   "name": "python",
   "nbconvert_exporter": "python",
   "pygments_lexer": "ipython3",
   "version": "3.10.0"
  }
 },
 "nbformat": 4,
 "nbformat_minor": 5
}
